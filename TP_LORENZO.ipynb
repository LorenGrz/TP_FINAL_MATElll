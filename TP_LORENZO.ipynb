{
 "cells": [
  {
   "cell_type": "markdown",
   "metadata": {},
   "source": [
    "\n",
    "TRABAJO PRACTICO MATE 3 SOBRE LA PREDICCION DEL TIPO DE VINO (WHITE OR RED(BLANCO O NEGRO))\n"
   ]
  },
  {
   "cell_type": "markdown",
   "metadata": {},
   "source": [
    "Al principio queria realizar uno que prediga la calidad del vino por los datos, pero utilizar el coeficiente de relacion me di cuenta que al parecer la calidad entra por otro lado y no se puede predecir solo con estadistica, pero hay algunos datos que poseen coorelacion moderada y fuerte con la que voy a intentar predecir el tipo de vino"
   ]
  },
  {
   "cell_type": "markdown",
   "metadata": {},
   "source": [
    "EXTRAIGO EL DATASET A UN DATAFRAME\n"
   ]
  },
  {
   "cell_type": "code",
   "execution_count": 27,
   "metadata": {
    "metadata": {}
   },
   "outputs": [],
   "source": [
    "import numpy as np\n",
    "import pandas as pd\n",
    "\n",
    "# Extraigo los valores del csv en mi variabla data delimitando los datos con la \",\" y los numeros decimales con el \".\"\n",
    "data = pd.read_csv(\"WineQuality.csv\", delimiter=\",\", decimal=\".\")"
   ]
  },
  {
   "cell_type": "markdown",
   "metadata": {},
   "source": [
    "PRIMERO CAMBIO EL DATAFRAME PARA QUE EN VEZ DE QUE EN LA COLUMNA INDIQUE WHITE Y RED SEA WHITE \"1\" Y RED \"0\" PARA PODER REALIZAR LOS CALCULOS DE MEJOR MANERA\n"
   ]
  },
  {
   "cell_type": "code",
   "execution_count": 28,
   "metadata": {
    "metadata": {}
   },
   "outputs": [
    {
     "name": "stdout",
     "output_type": "stream",
     "text": [
      "0       1\n",
      "1       1\n",
      "2       1\n",
      "3       1\n",
      "4       1\n",
      "       ..\n",
      "6492    0\n",
      "6493    0\n",
      "6494    0\n",
      "6495    0\n",
      "6496    0\n",
      "Name: type, Length: 6497, dtype: int64\n"
     ]
    },
    {
     "name": "stderr",
     "output_type": "stream",
     "text": [
      "C:\\Users\\loren\\AppData\\Local\\Temp\\ipykernel_29884\\2130396368.py:2: FutureWarning: Downcasting behavior in `replace` is deprecated and will be removed in a future version. To retain the old behavior, explicitly call `result.infer_objects(copy=False)`. To opt-in to the future behavior, set `pd.set_option('future.no_silent_downcasting', True)`\n",
      "  data['type'] = data['type'].replace({'white': 1, 'red': 0})\n"
     ]
    }
   ],
   "source": [
    "# Reemplazar los valores en la columna \"type\"\n",
    "data['type'] = data['type'].replace({'white': 1, 'red': 0})\n",
    "\n",
    "# Verificar los cambios\n",
    "print(data[\"type\"])  # Imprimo la columna para verificar"
   ]
  },
  {
   "cell_type": "markdown",
   "metadata": {},
   "source": [
    "BUSCO CORRELACION DE LAS CARACTERISTICAS CON LA CALIDAD DEL VINO\n",
    "(LA IDEA ORIGINAL ERA CALCULAR LA CALIDAD DEL VINO PERO COMO LA CORRELACION DE LA MISMA CON LOS DATOS DE ENTRADA ERAN MUY CERCANOS A 0 AHORA VOY A PREDECIR DE QUE COLOR ES EL VINO)"
   ]
  },
  {
   "cell_type": "code",
   "execution_count": 29,
   "metadata": {
    "metadata": {}
   },
   "outputs": [
    {
     "name": "stdout",
     "output_type": "stream",
     "text": [
      "                          type  fixed acidity  volatile acidity  citric acid  \\\n",
      "type                  1.000000      -0.487241         -0.652875     0.187126   \n",
      "fixed acidity        -0.487241       1.000000          0.220172     0.323736   \n",
      "volatile acidity     -0.652875       0.220172          1.000000    -0.378061   \n",
      "citric acid           0.187126       0.323736         -0.378061     1.000000   \n",
      "residual sugar        0.349000      -0.112319         -0.196702     0.142486   \n",
      "chlorides            -0.512622       0.298421          0.377167     0.039315   \n",
      "free sulfur dioxide   0.471644      -0.283317         -0.353230     0.133437   \n",
      "total sulfur dioxide  0.700357      -0.329747         -0.414928     0.195218   \n",
      "density              -0.390645       0.459204          0.271193     0.096320   \n",
      "pH                   -0.328727      -0.251814          0.260660    -0.328689   \n",
      "sulphates            -0.486916       0.300380          0.225476     0.057613   \n",
      "alcohol               0.032970      -0.095603         -0.038248    -0.010433   \n",
      "quality               0.119323      -0.077031         -0.265953     0.085706   \n",
      "\n",
      "                      residual sugar  chlorides  free sulfur dioxide  \\\n",
      "type                        0.349000  -0.512622             0.471644   \n",
      "fixed acidity              -0.112319   0.298421            -0.283317   \n",
      "volatile acidity           -0.196702   0.377167            -0.353230   \n",
      "citric acid                 0.142486   0.039315             0.133437   \n",
      "residual sugar              1.000000  -0.128902             0.403439   \n",
      "chlorides                  -0.128902   1.000000            -0.195042   \n",
      "free sulfur dioxide         0.403439  -0.195042             1.000000   \n",
      "total sulfur dioxide        0.495820  -0.279580             0.720934   \n",
      "density                     0.552498   0.362594             0.025717   \n",
      "pH                         -0.267050   0.044806            -0.145191   \n",
      "sulphates                  -0.185745   0.395332            -0.188489   \n",
      "alcohol                    -0.359706  -0.256861            -0.179838   \n",
      "quality                    -0.036825  -0.200886             0.055463   \n",
      "\n",
      "                      total sulfur dioxide   density        pH  sulphates  \\\n",
      "type                              0.700357 -0.390645 -0.328727  -0.486916   \n",
      "fixed acidity                    -0.329747  0.459204 -0.251814   0.300380   \n",
      "volatile acidity                 -0.414928  0.271193  0.260660   0.225476   \n",
      "citric acid                       0.195218  0.096320 -0.328689   0.057613   \n",
      "residual sugar                    0.495820  0.552498 -0.267050  -0.185745   \n",
      "chlorides                        -0.279580  0.362594  0.044806   0.395332   \n",
      "free sulfur dioxide               0.720934  0.025717 -0.145191  -0.188489   \n",
      "total sulfur dioxide              1.000000  0.032395 -0.237687  -0.275381   \n",
      "density                           0.032395  1.000000  0.011920   0.259454   \n",
      "pH                               -0.237687  0.011920  1.000000   0.191248   \n",
      "sulphates                        -0.275381  0.259454  0.191248   1.000000   \n",
      "alcohol                          -0.265740 -0.686745  0.121002  -0.003261   \n",
      "quality                          -0.041385 -0.305858  0.019366   0.038729   \n",
      "\n",
      "                       alcohol   quality  \n",
      "type                  0.032970  0.119323  \n",
      "fixed acidity        -0.095603 -0.077031  \n",
      "volatile acidity     -0.038248 -0.265953  \n",
      "citric acid          -0.010433  0.085706  \n",
      "residual sugar       -0.359706 -0.036825  \n",
      "chlorides            -0.256861 -0.200886  \n",
      "free sulfur dioxide  -0.179838  0.055463  \n",
      "total sulfur dioxide -0.265740 -0.041385  \n",
      "density              -0.686745 -0.305858  \n",
      "pH                    0.121002  0.019366  \n",
      "sulphates            -0.003261  0.038729  \n",
      "alcohol               1.000000  0.444319  \n",
      "quality               0.444319  1.000000  \n"
     ]
    }
   ],
   "source": [
    "# Imprimir correlaciones entre variables\n",
    "correlations = data.corr(method='pearson')\n",
    "print(correlations)"
   ]
  },
  {
   "cell_type": "markdown",
   "metadata": {},
   "source": [
    "UTILIZO LOS DATOS EN QUE POSEAN MAS DE 0.47 DE COORELACION CON TYPE PARA CALCULAR CUAL ES LA PRECISION"
   ]
  },
  {
   "cell_type": "code",
   "execution_count": 30,
   "metadata": {
    "metadata": {}
   },
   "outputs": [
    {
     "name": "stdout",
     "output_type": "stream",
     "text": [
      "Accuracy: 0.7553093259464451\n"
     ]
    }
   ],
   "source": [
    "from sklearn.model_selection import train_test_split\n",
    "from sklearn.preprocessing import StandardScaler\n",
    "\n",
    "# Definir características y etiquetas\n",
    "features = [\"volatile acidity\", \"chlorides\",\n",
    "            \"total sulfur dioxide\", \"sulphates\"]  # Seleccionar las características relevantes\n",
    "X = data[features].values\n",
    "y = data['type'].values\n",
    "\n",
    "# Escalar las características\n",
    "scaler = StandardScaler()\n",
    "X_scaled = scaler.fit_transform(X)\n",
    "\n",
    "# Dividir los datos en conjuntos de entrenamiento y prueba\n",
    "X_train, X_test, y_train, y_test = train_test_split(X_scaled, y, test_size=1/3, random_state=42)\n",
    "\n",
    "# Asegurar que los datos tengan la forma correcta\n",
    "X_train = X_train.T\n",
    "X_test = X_test.T\n",
    "y_train = y_train.reshape(1, -1)\n",
    "y_test = y_test.reshape(1, -1)\n",
    "\n",
    "# Número de registros de entrenamiento\n",
    "n = X_train.shape[1]\n",
    "\n",
    "# Inicializar los pesos y sesgos de la red neuronal\n",
    "np.random.seed(42)\n",
    "w_hidden = np.random.rand(3, X_train.shape[0])\n",
    "w_output = np.random.rand(1, 3)\n",
    "\n",
    "b_hidden = np.random.rand(3, 1)\n",
    "b_output = np.random.rand(1, 1)\n",
    "\n",
    "# Funciones de activación\n",
    "relu = lambda x: np.maximum(x, 0)\n",
    "logistic = lambda x: 1 / (1 + np.exp(-x))\n",
    "\n",
    "# Función para propagar hacia adelante (forward propagation)\n",
    "def forward_prop(X):\n",
    "    Z1 = w_hidden @ X + b_hidden\n",
    "    A1 = relu(Z1)\n",
    "    Z2 = w_output @ A1 + b_output\n",
    "    A2 = logistic(Z2)\n",
    "    return Z1, A1, Z2, A2\n",
    "\n",
    "# Calcular precisión\n",
    "test_predictions = forward_prop(X_test)[3]  # Solo nos interesa la capa de salida, A2\n",
    "test_comparisons = np.equal((test_predictions >= 0.5).astype(int).flatten(), y_test.flatten())\n",
    "accuracy = np.sum(test_comparisons.astype(int)) / X_test.shape[1]\n",
    "print(\"Accuracy:\", accuracy)"
   ]
  },
  {
   "cell_type": "markdown",
   "metadata": {},
   "source": [
    "Realizo el descenso de gradiente\n"
   ]
  },
  {
   "cell_type": "code",
   "execution_count": 31,
   "metadata": {
    "metadata": {}
   },
   "outputs": [
    {
     "name": "stdout",
     "output_type": "stream",
     "text": [
      "4331\n"
     ]
    }
   ],
   "source": [
    "# Definir características y etiquetas\n",
    "features = [\"volatile acidity\", \"chlorides\", \n",
    "            \"total sulfur dioxide\", \"sulphates\"]  # Seleccionar las características relevantes\n",
    "X = data[features].values\n",
    "y = data['type'].values\n",
    "\n",
    "# Escalar las características\n",
    "scaler = StandardScaler()\n",
    "X_scaled = scaler.fit_transform(X)\n",
    "\n",
    "# Dividir los datos en conjuntos de entrenamiento y prueba\n",
    "X_train, X_test, y_train, y_test = train_test_split(X_scaled, y, test_size=1/3, random_state=42)\n",
    "\n",
    "# Asegurar que los datos tengan la forma correcta\n",
    "X_train = X_train.T\n",
    "X_test = X_test.T\n",
    "y_train = y_train.reshape(1, -1)\n",
    "y_test = y_test.reshape(1, -1)\n",
    "\n",
    "# Número de registros de entrenamiento\n",
    "n = X_train.shape[1]\n",
    "print(n)\n",
    "\n",
    "# Inicializar los pesos y sesgos de la red neuronal\n",
    "np.random.seed(42)\n",
    "w_hidden = np.random.rand(3, X_train.shape[0])\n",
    "w_output = np.random.rand(1, 3)\n",
    "\n",
    "b_hidden = np.random.rand(3, 1)\n",
    "b_output = np.random.rand(1, 1)\n",
    "\n",
    "# Funciones de activación\n",
    "relu = lambda x: np.maximum(x, 0)\n",
    "logistic = lambda x: 1 / (1 + np.exp(-x))\n",
    "\n",
    "# Función para propagar hacia adelante (forward propagation)\n",
    "def forward_prop(X):\n",
    "    Z1 = w_hidden @ X + b_hidden\n",
    "    A1 = relu(Z1)\n",
    "    Z2 = w_output @ A1 + b_output\n",
    "    A2 = logistic(Z2)\n",
    "    return Z1, A1, Z2, A2\n",
    "\n",
    "L = 0.05  # La tasa de aprendizaje\n",
    "\n",
    "# Devuelve pendientes para pesos y sesgos\n",
    "# usando la regla de la cadena\n",
    "def backward_prop(Z1, A1, Z2, A2, X, Y):\n",
    "    dC_dA2 = 2 * A2 - 2 * Y\n",
    "    dA2_dZ2 = logistic(Z2)\n",
    "    dZ2_dA1 = w_output\n",
    "    dZ2_dW2 = A1\n",
    "    dZ2_dB2 = 1\n",
    "    dA1_dZ1 = relu(Z1)\n",
    "    dZ1_dW1 = X\n",
    "    dZ1_dB1 = 1\n",
    "\n",
    "    dC_dW2 = dC_dA2 @ dA2_dZ2 @ dZ2_dW2.T\n",
    "\n",
    "    dC_dB2 = dC_dA2 @ dA2_dZ2 * dZ2_dB2\n",
    "\n",
    "    dC_dA1 = dC_dA2 @ dA2_dZ2 @ dZ2_dA1\n",
    "\n",
    "    dC_dW1 = dC_dA1 @ dA1_dZ1 @ dZ1_dW1.T\n",
    "\n",
    "    dC_dB1 = dC_dA1 @ dA1_dZ1 * dZ1_dB1\n",
    "\n",
    "    return dC_dW1, dC_dB1, dC_dW2, dC_dB2\n",
    "\n",
    "# Ejecutar descenso de gradiente\n",
    "for i in range(100_000):\n",
    "    # seleccionar aleatoriamente un conjunto de datos de entrenamiento\n",
    "    indices = np.random.choice(n, 1, replace=False)  # seleccionar 32 índices aleatorios\n",
    "    X_batch = X_train[:, indices]  # No es necesario transponer X_batch\n",
    "    Y_batch = y_train[:, indices]\n",
    "\n",
    "    # pasar datos seleccionados aleatoriamente a través de la red neuronal\n",
    "    Z1, A1, Z2, A2 = forward_prop(X_batch)\n",
    "\n",
    "    # distribuir error a través de la retropropagación\n",
    "    # y devolver pendientes para pesos y sesgos\n",
    "    dW1, dB1, dW2, dB2 = backward_prop(Z1, A1, Z2, A2, X_batch, Y_batch)\n",
    "\n",
    "    # actualizar pesos y sesgos\n",
    "    w_hidden -= L * dW1\n",
    "    b_hidden -= L * dB1\n",
    "    w_output -= L * dW2\n",
    "    b_output -= L * dB2"
   ]
  },
  {
   "cell_type": "markdown",
   "metadata": {},
   "source": [
    "UTILIZO LA RED NEURONAL PARA REALIZAR PREDICCIONES"
   ]
  },
  {
   "cell_type": "code",
   "execution_count": 36,
   "metadata": {
    "metadata": {}
   },
   "outputs": [
    {
     "name": "stdout",
     "output_type": "stream",
     "text": [
      "[0, 0, 0, 0]\n"
     ]
    },
    {
     "name": "stderr",
     "output_type": "stream",
     "text": [
      "C:\\Users\\loren\\AppData\\Local\\Temp\\ipykernel_29884\\346542742.py:30: DeprecationWarning: Conversion of an array with ndim > 0 to a scalar is deprecated, and will error in future. Ensure you extract a single element from your array before performing this operation. (Deprecated NumPy 1.25.)\n",
      "  prediction = int(A2_new > 0.5)\n"
     ]
    }
   ],
   "source": [
    "# Definir características de entrada para los nuevos datos\n",
    "new_features = [\"volatile acidity\", \"chlorides\", \"total sulfur dioxide\", \"sulphates\"]\n",
    "\n",
    "# Seleccionar características relevantes de los nuevos datos\n",
    "new_data = {\n",
    "    \"volatile acidity\": [0.27, 0.3, 0.28, 0.725],# 0.31, 0.28],\n",
    "    \"chlorides\": [0.045, 0.049, 0.05, 0.073],# 0.067, 0.05],\n",
    "    \"total sulfur dioxide\": [170, 132, 97, 35],# 190, 97],\n",
    "    \"sulphates\": [0.45, 0.49, 0.44, 0.82]#, 0.47, 0.44]\n",
    "# [0.27, 0.045, 170, 0.45]\n",
    "# [0.3, 0.049, 132, 0.49]\n",
    "# [0.28, 0.05, 97, 0.44]\n",
    "# [0.725, 0.073, 35, 0.82] COLUMNAS DE LOS EJEMPLOS A PREDECIR\n",
    "}\n",
    "\n",
    "# Convertir el diccionario de datos a un DataFrame\n",
    "new_df = pd.DataFrame(new_data)\n",
    "\n",
    "# Escalar las características de los nuevos datos utilizando el mismo escalador\n",
    "X_new_scaled = scaler.transform(new_df.values)\n",
    "\n",
    "# List to store predictions\n",
    "predictions = []\n",
    "\n",
    "# Iterar sobre los nuevos datos y hacer predicciones de uno en uno\n",
    "for i in range(X_new_scaled.shape[1]):\n",
    "    # Obtener un ejemplo a la vez\n",
    "    X_example = X_new_scaled[:, i].reshape(-1, 1)\n",
    "    \n",
    "    # Propagar hacia adelante el ejemplo a través de la red neuronal\n",
    "    Z1_new, A1_new, Z2_new, A2_new = forward_prop(X_example)\n",
    "    \n",
    "    # Obtener la predicción (0 para vino tinto y 1 para vino blanco) usando un umbral de 0.5\n",
    "    prediction = int(A2_new > 0.5)\n",
    "    \n",
    "    # Agregar la predicción a la lista de predicciones\n",
    "    predictions.append(prediction)\n",
    "\n",
    "# Mostrar las predicciones\n",
    "print(predictions)"
   ]
  }
 ],
 "metadata": {
  "kernelspec": {
   "display_name": "Python 3",
   "language": "python",
   "name": "python3"
  },
  "language_info": {
   "codemirror_mode": {
    "name": "ipython",
    "version": 3
   },
   "file_extension": ".py",
   "mimetype": "text/x-python",
   "name": "python",
   "nbconvert_exporter": "python",
   "pygments_lexer": "ipython3",
   "version": "3.11.9"
  }
 },
 "nbformat": 4,
 "nbformat_minor": 2
}
